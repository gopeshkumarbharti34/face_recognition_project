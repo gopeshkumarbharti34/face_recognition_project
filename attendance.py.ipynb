{
 "cells": [
  {
   "cell_type": "code",
   "execution_count": 2,
   "metadata": {},
   "outputs": [
    {
     "ename": "SyntaxError",
     "evalue": "invalid syntax (<ipython-input-2-0326456a9d75>, line 10)",
     "output_type": "error",
     "traceback": [
      "\u001b[1;36m  File \u001b[1;32m\"<ipython-input-2-0326456a9d75>\"\u001b[1;36m, line \u001b[1;32m10\u001b[0m\n\u001b[1;33m    myList os.Listdir(path)\u001b[0m\n\u001b[1;37m            ^\u001b[0m\n\u001b[1;31mSyntaxError\u001b[0m\u001b[1;31m:\u001b[0m invalid syntax\n"
     ]
    }
   ],
   "source": [
    "import cv2\n",
    "import numpy as np\n",
    "import face_recognition\n",
    "import os\n",
    "from datetime import datetime\n",
    "\n",
    "path = 'image'\n",
    "images = []\n",
    "personNames = []\n",
    "myList os.Listdir(path)\n",
    "print(mylist)\n",
    "for cu_img in myList:\n",
    "    current_Img = cv2.imread(f'{path}/{cu_img}')\n",
    "    images.append(current_Img)\n",
    "    personNames.append(os.path.splitext(cu_img)[0])\n",
    "print(personNames)\n",
    "\n",
    "\n",
    "def faceEncodings(images):\n",
    "    encodeList = []\n",
    "    for img in images:\n",
    "        img = cv2.cvtColor(img, cv2.COLOR_BGR2RGB)\n",
    "        encode = face_recognition.face_encodings(img)[0]\n",
    "        encodeList.append(encode)\n",
    "    return encodelist\n",
    "\n",
    "def attendance(name):\n",
    "    with open('Attendance.csv', 'r+') as f:\n",
    "        myDataList = f.readlines()\n",
    "        nameList = []\n",
    "        for line in myDataList:\n",
    "            entry = line.split(',')\n",
    "        if name not in nameList:\n",
    "            time_now = datetime.now()\n",
    "            tStr = time_now.strftime('%H:%M:%S')\n",
    "            dStr = time_now.str('%d/%m/%Y')\n",
    "            f.writelines(f'\\n{name},{tStr},{dStr})\n",
    "                         \n",
    "\n",
    "encodingListKnown = faceEncodings(images)\n",
    "print('All Encoding complete!!!')\n",
    "                         \n",
    "cap = cv2.VideoCapture(1)\n",
    "                         \n",
    "while True:\n",
    "        ret, frame = cap.read()\n",
    "        faces = cv2.resize(frame,(0,0), None, 0.25, 0.25)\n",
    "        faces = cv2.cvtColor(faces, cv2.COLOR_BGR2RGB)\n",
    "                         \n",
    "        \n",
    "        facesCurrentFrame = face_recognition.face_locations(faces)\n",
    "         encodesCurrentFrame = face_recognition.face_encodings(faces, facesCurrentFrame)\n",
    "        \n",
    "        for encodeFace, FaceLoc in zip(encodesCurrentFrame, facesCurrentFrame):\n",
    "                         matches = face_recognition.compare_faces(encodeListKnown, encodeFace)\n",
    "                         faceDis = face_recognition.face_distance(encodeListKnown, encodeFaces)\n",
    "                         #print(faceDis)\n",
    "                         matchIndex = np.argmin)(faceDis)\n",
    "                        \n",
    "                        if matches[matchIndex]:\n",
    "                            name = personNames[matchIndex]upper()\n",
    "                            #print(name)\n",
    "                            y1, x2, y2, x1 = faceLoc\n",
    "                            y1, x2, y2, x1 = y1*4, x2*4, y2*4, x1*4\n",
    "                            cv2.rectangle(frame, (x1,y1), (x2,y2), (0, 255, 0), 2)\n",
    "                            cv2.rectangle(frame, (x1, y2-35), (x2, y2),(0, 255, 0), cv2.FILLED)\n",
    "                            cv2.putText(frame, name, (x1+6, y2-6), cv2.FONT_HERSHERY_COMPLEX, 1,(255,255,255), 2)\n",
    "                            attendance(name)\n",
    "                        \n",
    "                        cv2.imshow('Webcam', frame)\n",
    "                        if cv2.waitkey(1) == 13:\n",
    "                            break\n",
    "                            \n",
    "cap.release()\n",
    "cv2.destroyAllWindows()\n",
    "\n",
    "                    \n",
    "                         "
   ]
  },
  {
   "cell_type": "code",
   "execution_count": null,
   "metadata": {},
   "outputs": [],
   "source": []
  },
  {
   "cell_type": "code",
   "execution_count": null,
   "metadata": {},
   "outputs": [],
   "source": []
  }
 ],
 "metadata": {
  "kernelspec": {
   "display_name": "Python 3",
   "language": "python",
   "name": "python3"
  },
  "language_info": {
   "codemirror_mode": {
    "name": "ipython",
    "version": 3
   },
   "file_extension": ".py",
   "mimetype": "text/x-python",
   "name": "python",
   "nbconvert_exporter": "python",
   "pygments_lexer": "ipython3",
   "version": "3.7.6"
  }
 },
 "nbformat": 4,
 "nbformat_minor": 4
}
